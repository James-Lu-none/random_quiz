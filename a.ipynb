{
 "cells": [
  {
   "cell_type": "code",
   "execution_count": 7,
   "metadata": {},
   "outputs": [
    {
     "name": "stdout",
     "output_type": "stream",
     "text": [
      "Requirement already satisfied: PyQt5 in d:\\programdata\\anaconda3\\envs\\mypython\\lib\\site-packages (5.15.10)\n",
      "Requirement already satisfied: PyQt5-sip<13,>=12.13 in d:\\programdata\\anaconda3\\envs\\mypython\\lib\\site-packages (from PyQt5) (12.13.0)\n",
      "Requirement already satisfied: PyQt5-Qt5>=5.15.2 in d:\\programdata\\anaconda3\\envs\\mypython\\lib\\site-packages (from PyQt5) (5.15.2)\n",
      "Requirement already satisfied: pyinstaller in d:\\programdata\\anaconda3\\envs\\mypython\\lib\\site-packages (6.3.0)\n",
      "Requirement already satisfied: setuptools>=42.0.0 in d:\\programdata\\anaconda3\\envs\\mypython\\lib\\site-packages (from pyinstaller) (68.2.2)\n",
      "Requirement already satisfied: altgraph in d:\\programdata\\anaconda3\\envs\\mypython\\lib\\site-packages (from pyinstaller) (0.17.4)\n",
      "Requirement already satisfied: pyinstaller-hooks-contrib>=2021.4 in d:\\programdata\\anaconda3\\envs\\mypython\\lib\\site-packages (from pyinstaller) (2023.12)\n",
      "Requirement already satisfied: packaging>=22.0 in d:\\programdata\\anaconda3\\envs\\mypython\\lib\\site-packages (from pyinstaller) (23.2)\n",
      "Requirement already satisfied: pefile>=2022.5.30 in d:\\programdata\\anaconda3\\envs\\mypython\\lib\\site-packages (from pyinstaller) (2023.2.7)\n",
      "Requirement already satisfied: pywin32-ctypes>=0.2.1 in d:\\programdata\\anaconda3\\envs\\mypython\\lib\\site-packages (from pyinstaller) (0.2.2)\n"
     ]
    }
   ],
   "source": [
    "!pip install PyQt5\n",
    "!pip install pyinstaller"
   ]
  },
  {
   "cell_type": "code",
   "execution_count": 8,
   "metadata": {},
   "outputs": [
    {
     "name": "stderr",
     "output_type": "stream",
     "text": [
      "596 INFO: PyInstaller: 6.3.0\n",
      "596 INFO: Python: 3.11.5 (conda)\n",
      "605 INFO: Platform: Windows-10-10.0.22631-SP0\n",
      "606 INFO: wrote d:\\projects\\Project\\active project\\random_quiz\\main.spec\n",
      "616 INFO: Extending PYTHONPATH with paths\n",
      "['d:\\\\projects\\\\Project\\\\active project\\\\random_quiz']\n",
      "984 INFO: checking Analysis\n",
      "1173 INFO: checking PYZ\n",
      "1307 INFO: checking PKG\n",
      "1448 INFO: Bootloader D:\\ProgramData\\anaconda3\\envs\\myPython\\Lib\\site-packages\\PyInstaller\\bootloader\\Windows-64bit-intel\\run.exe\n",
      "1448 INFO: checking EXE\n"
     ]
    }
   ],
   "source": [
    "!pyinstaller --onefile main.py"
   ]
  },
  {
   "cell_type": "code",
   "execution_count": 11,
   "metadata": {},
   "outputs": [
    {
     "data": {
      "text/plain": [
       "'d:\\\\projects\\\\Project\\\\active project\\\\random_quiz\\\\quiz.zip'"
      ]
     },
     "execution_count": 11,
     "metadata": {},
     "output_type": "execute_result"
    }
   ],
   "source": [
    "import shutil\n",
    "\n",
    "folder_path = './quiz'\n",
    "archive_name = 'quiz'\n",
    "shutil.make_archive(archive_name, 'zip', folder_path)"
   ]
  }
 ],
 "metadata": {
  "kernelspec": {
   "display_name": "myPython",
   "language": "python",
   "name": "python3"
  },
  "language_info": {
   "codemirror_mode": {
    "name": "ipython",
    "version": 3
   },
   "file_extension": ".py",
   "mimetype": "text/x-python",
   "name": "python",
   "nbconvert_exporter": "python",
   "pygments_lexer": "ipython3",
   "version": "3.11.5"
  }
 },
 "nbformat": 4,
 "nbformat_minor": 2
}
