{
 "cells": [
  {
   "cell_type": "code",
   "execution_count": 7,
   "metadata": {},
   "outputs": [
    {
     "name": "stdout",
     "output_type": "stream",
     "text": [
      "Requirement already satisfied: PyQt5 in d:\\programdata\\anaconda3\\envs\\mypython\\lib\\site-packages (5.15.10)\n",
      "Requirement already satisfied: PyQt5-sip<13,>=12.13 in d:\\programdata\\anaconda3\\envs\\mypython\\lib\\site-packages (from PyQt5) (12.13.0)\n",
      "Requirement already satisfied: PyQt5-Qt5>=5.15.2 in d:\\programdata\\anaconda3\\envs\\mypython\\lib\\site-packages (from PyQt5) (5.15.2)\n",
      "Requirement already satisfied: pyinstaller in d:\\programdata\\anaconda3\\envs\\mypython\\lib\\site-packages (6.3.0)\n",
      "Requirement already satisfied: setuptools>=42.0.0 in d:\\programdata\\anaconda3\\envs\\mypython\\lib\\site-packages (from pyinstaller) (68.2.2)\n",
      "Requirement already satisfied: altgraph in d:\\programdata\\anaconda3\\envs\\mypython\\lib\\site-packages (from pyinstaller) (0.17.4)\n",
      "Requirement already satisfied: pyinstaller-hooks-contrib>=2021.4 in d:\\programdata\\anaconda3\\envs\\mypython\\lib\\site-packages (from pyinstaller) (2023.12)\n",
      "Requirement already satisfied: packaging>=22.0 in d:\\programdata\\anaconda3\\envs\\mypython\\lib\\site-packages (from pyinstaller) (23.2)\n",
      "Requirement already satisfied: pefile>=2022.5.30 in d:\\programdata\\anaconda3\\envs\\mypython\\lib\\site-packages (from pyinstaller) (2023.2.7)\n",
      "Requirement already satisfied: pywin32-ctypes>=0.2.1 in d:\\programdata\\anaconda3\\envs\\mypython\\lib\\site-packages (from pyinstaller) (0.2.2)\n"
     ]
    }
   ],
   "source": [
    "!pip install PyQt5\n",
    "!pip install pyinstaller\n",
    "!pyinstaller --onefile main.py"
   ]
  },
  {
   "cell_type": "code",
   "execution_count": 1,
   "metadata": {},
   "outputs": [
    {
     "name": "stderr",
     "output_type": "stream",
     "text": [
      "525 INFO: PyInstaller: 6.3.0\n",
      "525 INFO: Python: 3.11.5 (conda)\n",
      "534 INFO: Platform: Windows-10-10.0.22631-SP0\n",
      "534 INFO: wrote d:\\projects\\Project\\active project\\random_quiz\\main.spec\n",
      "541 INFO: Extending PYTHONPATH with paths\n",
      "['d:\\\\projects\\\\Project\\\\active project\\\\random_quiz']\n",
      "910 INFO: checking Analysis\n",
      "974 INFO: Building because D:\\projects\\Project\\active project\\random_quiz\\main.py changed\n",
      "974 INFO: Initializing module dependency graph...\n",
      "976 INFO: Caching module graph hooks...\n",
      "995 INFO: Analyzing base_library.zip ...\n",
      "3298 INFO: Loading module hook 'hook-heapq.py' from 'D:\\\\ProgramData\\\\anaconda3\\\\envs\\\\myPython\\\\Lib\\\\site-packages\\\\PyInstaller\\\\hooks'...\n",
      "3414 INFO: Loading module hook 'hook-encodings.py' from 'D:\\\\ProgramData\\\\anaconda3\\\\envs\\\\myPython\\\\Lib\\\\site-packages\\\\PyInstaller\\\\hooks'...\n",
      "5488 INFO: Loading module hook 'hook-pickle.py' from 'D:\\\\ProgramData\\\\anaconda3\\\\envs\\\\myPython\\\\Lib\\\\site-packages\\\\PyInstaller\\\\hooks'...\n",
      "7138 INFO: Caching module dependency graph...\n",
      "7262 INFO: Running Analysis Analysis-00.toc\n",
      "7262 INFO: Looking for Python shared library...\n",
      "7271 INFO: Using Python shared library: D:\\ProgramData\\anaconda3\\envs\\myPython\\python311.dll\n",
      "7271 INFO: Analyzing d:\\projects\\Project\\active project\\random_quiz\\main.py\n",
      "7305 INFO: Loading module hook 'hook-matplotlib.py' from 'D:\\\\ProgramData\\\\anaconda3\\\\envs\\\\myPython\\\\Lib\\\\site-packages\\\\PyInstaller\\\\hooks'...\n",
      "7671 INFO: Loading module hook 'hook-numpy.py' from 'D:\\\\ProgramData\\\\anaconda3\\\\envs\\\\myPython\\\\Lib\\\\site-packages\\\\numpy\\\\_pyinstaller'...\n",
      "7732 WARNING: Conda distribution 'numpy', dependency of 'numpy', was not found. If you installed this distribution with pip then you may ignore this warning.\n",
      "8375 INFO: Loading module hook 'hook-difflib.py' from 'D:\\\\ProgramData\\\\anaconda3\\\\envs\\\\myPython\\\\Lib\\\\site-packages\\\\PyInstaller\\\\hooks'...\n",
      "8614 INFO: Loading module hook 'hook-multiprocessing.util.py' from 'D:\\\\ProgramData\\\\anaconda3\\\\envs\\\\myPython\\\\Lib\\\\site-packages\\\\PyInstaller\\\\hooks'...\n",
      "8929 INFO: Loading module hook 'hook-xml.py' from 'D:\\\\ProgramData\\\\anaconda3\\\\envs\\\\myPython\\\\Lib\\\\site-packages\\\\PyInstaller\\\\hooks'...\n",
      "9702 INFO: Loading module hook 'hook-platform.py' from 'D:\\\\ProgramData\\\\anaconda3\\\\envs\\\\myPython\\\\Lib\\\\site-packages\\\\PyInstaller\\\\hooks'...\n",
      "9728 INFO: Loading module hook 'hook-sysconfig.py' from 'D:\\\\ProgramData\\\\anaconda3\\\\envs\\\\myPython\\\\Lib\\\\site-packages\\\\PyInstaller\\\\hooks'...\n",
      "10340 INFO: Loading module hook 'hook-psutil.py' from 'D:\\\\ProgramData\\\\anaconda3\\\\envs\\\\myPython\\\\Lib\\\\site-packages\\\\_pyinstaller_hooks_contrib\\\\hooks\\\\stdhooks'...\n",
      "11944 INFO: Loading module hook 'hook-packaging.py' from 'D:\\\\ProgramData\\\\anaconda3\\\\envs\\\\myPython\\\\Lib\\\\site-packages\\\\PyInstaller\\\\hooks'...\n",
      "12029 INFO: Processing pre-safe import module hook gi from 'D:\\\\ProgramData\\\\anaconda3\\\\envs\\\\myPython\\\\Lib\\\\site-packages\\\\PyInstaller\\\\hooks\\\\pre_safe_import_module\\\\hook-gi.py'.\n",
      "12162 INFO: Loading module hook 'hook-PIL.py' from 'D:\\\\ProgramData\\\\anaconda3\\\\envs\\\\myPython\\\\Lib\\\\site-packages\\\\PyInstaller\\\\hooks'...\n",
      "12253 INFO: Loading module hook 'hook-PIL.Image.py' from 'D:\\\\ProgramData\\\\anaconda3\\\\envs\\\\myPython\\\\Lib\\\\site-packages\\\\PyInstaller\\\\hooks'...\n",
      "13346 INFO: Loading module hook 'hook-PIL.ImageFilter.py' from 'D:\\\\ProgramData\\\\anaconda3\\\\envs\\\\myPython\\\\Lib\\\\site-packages\\\\PyInstaller\\\\hooks'...\n",
      "15767 INFO: Processing pre-safe import module hook six.moves from 'D:\\\\ProgramData\\\\anaconda3\\\\envs\\\\myPython\\\\Lib\\\\site-packages\\\\PyInstaller\\\\hooks\\\\pre_safe_import_module\\\\hook-six.moves.py'.\n",
      "17002 INFO: Loading module hook 'hook-matplotlib.backends.py' from 'D:\\\\ProgramData\\\\anaconda3\\\\envs\\\\myPython\\\\Lib\\\\site-packages\\\\PyInstaller\\\\hooks'...\n",
      "18159 INFO: Loading module hook 'hook-IPython.py' from 'D:\\\\ProgramData\\\\anaconda3\\\\envs\\\\myPython\\\\Lib\\\\site-packages\\\\_pyinstaller_hooks_contrib\\\\hooks\\\\stdhooks'...\n",
      "20344 INFO: Loading module hook 'hook-xml.dom.domreg.py' from 'D:\\\\ProgramData\\\\anaconda3\\\\envs\\\\myPython\\\\Lib\\\\site-packages\\\\PyInstaller\\\\hooks'...\n",
      "20705 INFO: Loading module hook 'hook-pygments.py' from 'D:\\\\ProgramData\\\\anaconda3\\\\envs\\\\myPython\\\\Lib\\\\site-packages\\\\PyInstaller\\\\hooks'...\n",
      "22768 INFO: Loading module hook 'hook-importlib_metadata.py' from 'D:\\\\ProgramData\\\\anaconda3\\\\envs\\\\myPython\\\\Lib\\\\site-packages\\\\PyInstaller\\\\hooks'...\n",
      "22882 INFO: Loading module hook 'hook-pkg_resources.py' from 'D:\\\\ProgramData\\\\anaconda3\\\\envs\\\\myPython\\\\Lib\\\\site-packages\\\\PyInstaller\\\\hooks'...\n",
      "25335 INFO: Loading module hook 'hook-wcwidth.py' from 'D:\\\\ProgramData\\\\anaconda3\\\\envs\\\\myPython\\\\Lib\\\\site-packages\\\\PyInstaller\\\\hooks'...\n",
      "26556 INFO: Loading module hook 'hook-jedi.py' from 'D:\\\\ProgramData\\\\anaconda3\\\\envs\\\\myPython\\\\Lib\\\\site-packages\\\\_pyinstaller_hooks_contrib\\\\hooks\\\\stdhooks'...\n",
      "27489 INFO: Loading module hook 'hook-parso.py' from 'D:\\\\ProgramData\\\\anaconda3\\\\envs\\\\myPython\\\\Lib\\\\site-packages\\\\_pyinstaller_hooks_contrib\\\\hooks\\\\stdhooks'...\n",
      "28923 INFO: Loading module hook 'hook-sqlite3.py' from 'D:\\\\ProgramData\\\\anaconda3\\\\envs\\\\myPython\\\\Lib\\\\site-packages\\\\PyInstaller\\\\hooks'...\n",
      "29918 INFO: Loading module hook 'hook-zmq.py' from 'D:\\\\ProgramData\\\\anaconda3\\\\envs\\\\myPython\\\\Lib\\\\site-packages\\\\_pyinstaller_hooks_contrib\\\\hooks\\\\stdhooks'...\n",
      "30906 INFO: Loading module hook 'hook-platformdirs.py' from 'D:\\\\ProgramData\\\\anaconda3\\\\envs\\\\myPython\\\\Lib\\\\site-packages\\\\_pyinstaller_hooks_contrib\\\\hooks\\\\stdhooks'...\n",
      "31618 INFO: Loading module hook 'hook-PyQt5.py' from 'D:\\\\ProgramData\\\\anaconda3\\\\envs\\\\myPython\\\\Lib\\\\site-packages\\\\PyInstaller\\\\hooks'...\n",
      "31854 INFO: Processing module hooks...\n",
      "31886 INFO: Loading module hook 'hook-matplotlib.backends.py' from 'D:\\\\ProgramData\\\\anaconda3\\\\envs\\\\myPython\\\\Lib\\\\site-packages\\\\PyInstaller\\\\hooks'...\n",
      "31887 INFO: Matplotlib backend selection method: automatic discovery of used backends\n",
      "31933 INFO: Discovered Matplotlib backend(s) via `matplotlib.use()` call in module 'D:\\\\projects\\\\Project\\\\active project\\\\random_quiz\\\\main.py': ['TkAgg']\n",
      "31933 INFO: The following Matplotlib backends were discovered by scanning for `matplotlib.use()` calls: ['TkAgg']. If your backend of choice is not in this list, either add a `matplotlib.use()` call to your code, or configure the backend collection via hook options (see: https://pyinstaller.org/en/stable/hooks-config.html#matplotlib-hooks).\n",
      "31933 INFO: Selected matplotlib backends: ['TkAgg']\n",
      "32322 INFO: Loading module hook 'hook-PIL.SpiderImagePlugin.py' from 'D:\\\\ProgramData\\\\anaconda3\\\\envs\\\\myPython\\\\Lib\\\\site-packages\\\\PyInstaller\\\\hooks'...\n",
      "35229 INFO: Loading module hook 'hook-_tkinter.py' from 'D:\\\\ProgramData\\\\anaconda3\\\\envs\\\\myPython\\\\Lib\\\\site-packages\\\\PyInstaller\\\\hooks'...\n",
      "35229 INFO: checking Tree\n",
      "35260 INFO: checking Tree\n",
      "35265 INFO: checking Tree\n",
      "35306 INFO: Performing binary vs. data reclassification (2948 entries)\n",
      "36474 INFO: Looking for ctypes DLLs\n",
      "36651 INFO: Analyzing run-time hooks ...\n",
      "36661 INFO: Including run-time hook 'D:\\\\ProgramData\\\\anaconda3\\\\envs\\\\myPython\\\\Lib\\\\site-packages\\\\PyInstaller\\\\hooks\\\\rthooks\\\\pyi_rth_inspect.py'\n",
      "36663 INFO: Including run-time hook 'D:\\\\ProgramData\\\\anaconda3\\\\envs\\\\myPython\\\\Lib\\\\site-packages\\\\PyInstaller\\\\hooks\\\\rthooks\\\\pyi_rth_mplconfig.py'\n",
      "36665 INFO: Processing pre-find module path hook _pyi_rth_utils from 'D:\\\\ProgramData\\\\anaconda3\\\\envs\\\\myPython\\\\Lib\\\\site-packages\\\\PyInstaller\\\\hooks\\\\pre_find_module_path\\\\hook-_pyi_rth_utils.py'.\n",
      "36667 INFO: Loading module hook 'hook-_pyi_rth_utils.py' from 'D:\\\\ProgramData\\\\anaconda3\\\\envs\\\\myPython\\\\Lib\\\\site-packages\\\\PyInstaller\\\\hooks'...\n",
      "36676 INFO: Including run-time hook 'D:\\\\ProgramData\\\\anaconda3\\\\envs\\\\myPython\\\\Lib\\\\site-packages\\\\PyInstaller\\\\hooks\\\\rthooks\\\\pyi_rth_pkgutil.py'\n",
      "36679 INFO: Including run-time hook 'D:\\\\ProgramData\\\\anaconda3\\\\envs\\\\myPython\\\\Lib\\\\site-packages\\\\PyInstaller\\\\hooks\\\\rthooks\\\\pyi_rth_multiprocessing.py'\n",
      "36683 INFO: Including run-time hook 'D:\\\\ProgramData\\\\anaconda3\\\\envs\\\\myPython\\\\Lib\\\\site-packages\\\\PyInstaller\\\\hooks\\\\rthooks\\\\pyi_rth__tkinter.py'\n",
      "36685 INFO: Including run-time hook 'D:\\\\ProgramData\\\\anaconda3\\\\envs\\\\myPython\\\\Lib\\\\site-packages\\\\_pyinstaller_hooks_contrib\\\\hooks\\\\rthooks\\\\pyi_rth_traitlets.py'\n",
      "36686 INFO: Including run-time hook 'D:\\\\ProgramData\\\\anaconda3\\\\envs\\\\myPython\\\\Lib\\\\site-packages\\\\PyInstaller\\\\hooks\\\\rthooks\\\\pyi_rth_pkgres.py'\n",
      "36691 INFO: Including run-time hook 'D:\\\\ProgramData\\\\anaconda3\\\\envs\\\\myPython\\\\Lib\\\\site-packages\\\\PyInstaller\\\\hooks\\\\rthooks\\\\pyi_rth_pyqt5.py'\n",
      "36810 INFO: Looking for dynamic libraries\n",
      "D:\\ProgramData\\anaconda3\\envs\\myPython\\Lib\\site-packages\\PyInstaller\\building\\build_main.py:194: UserWarning: The numpy.array_api submodule is still experimental. See NEP 47.\n",
      "  __import__(package)\n",
      "0.00s - Debugger warning: It seems that frozen modules are being used, which may\n",
      "0.00s - make the debugger miss breakpoints. Please pass -Xfrozen_modules=off\n",
      "0.00s - to python to disable frozen modules.\n",
      "0.00s - Note: Debugging will proceed. Set PYDEVD_DISABLE_FILE_VALIDATION=1 to disable this validation.\n",
      "38371 INFO: Extra DLL search directories (AddDllDirectory): ['D:\\\\ProgramData\\\\anaconda3\\\\envs\\\\myPython\\\\Lib\\\\site-packages\\\\matplotlib.libs', 'D:\\\\ProgramData\\\\anaconda3\\\\envs\\\\myPython\\\\Lib\\\\site-packages\\\\numpy.libs', 'D:\\\\ProgramData\\\\anaconda3\\\\envs\\\\myPython\\\\Lib\\\\site-packages\\\\matplotlib.libs', 'D:\\\\ProgramData\\\\anaconda3\\\\envs\\\\myPython\\\\Lib\\\\site-packages\\\\PyQt5\\\\Qt5\\\\bin']\n",
      "38371 INFO: Extra DLL search directories (PATH): ['D:\\\\ProgramData\\\\anaconda3\\\\envs\\\\myPython\\\\Lib\\\\site-packages\\\\PyQt5\\\\Qt5\\\\bin']\n",
      "39857 INFO: Warnings written to d:\\projects\\Project\\active project\\random_quiz\\build\\main\\warn-main.txt\n",
      "40039 INFO: Graph cross-reference written to d:\\projects\\Project\\active project\\random_quiz\\build\\main\\xref-main.html\n",
      "40170 INFO: checking PYZ\n",
      "40187 INFO: Building because toc changed\n",
      "40187 INFO: Building PYZ (ZlibArchive) d:\\projects\\Project\\active project\\random_quiz\\build\\main\\PYZ-00.pyz\n",
      "42747 INFO: Building PYZ (ZlibArchive) d:\\projects\\Project\\active project\\random_quiz\\build\\main\\PYZ-00.pyz completed successfully.\n",
      "42854 INFO: checking PKG\n",
      "42888 INFO: Building because toc changed\n",
      "42888 INFO: Building PKG (CArchive) main.pkg\n",
      "56773 INFO: Building PKG (CArchive) main.pkg completed successfully.\n",
      "56859 INFO: Bootloader D:\\ProgramData\\anaconda3\\envs\\myPython\\Lib\\site-packages\\PyInstaller\\bootloader\\Windows-64bit-intel\\run.exe\n",
      "56859 INFO: checking EXE\n",
      "56892 INFO: Building because toc changed\n",
      "56892 INFO: Building EXE from EXE-00.toc\n",
      "56899 INFO: Copying bootloader EXE to d:\\projects\\Project\\active project\\random_quiz\\dist\\main.exe\n",
      "57057 INFO: Copying icon to EXE\n",
      "57127 INFO: Copying 0 resources to EXE\n",
      "57127 INFO: Embedding manifest in EXE\n",
      "57197 INFO: Appending PKG archive to EXE\n",
      "57258 INFO: Fixing EXE headers\n",
      "63213 INFO: Building EXE from EXE-00.toc completed successfully.\n"
     ]
    }
   ],
   "source": []
  },
  {
   "cell_type": "code",
   "execution_count": 1,
   "metadata": {},
   "outputs": [
    {
     "data": {
      "text/plain": [
       "'d:\\\\projects\\\\Project\\\\active project\\\\random_quiz\\\\110310144_盧楷勛.zip'"
      ]
     },
     "execution_count": 1,
     "metadata": {},
     "output_type": "execute_result"
    }
   ],
   "source": [
    "import shutil\n",
    "\n",
    "folder_path = './quiz'\n",
    "archive_name = 'quiz'\n",
    "shutil.make_archive(archive_name, 'zip', folder_path)"
   ]
  }
 ],
 "metadata": {
  "kernelspec": {
   "display_name": "myPython",
   "language": "python",
   "name": "python3"
  },
  "language_info": {
   "codemirror_mode": {
    "name": "ipython",
    "version": 3
   },
   "file_extension": ".py",
   "mimetype": "text/x-python",
   "name": "python",
   "nbconvert_exporter": "python",
   "pygments_lexer": "ipython3",
   "version": "3.11.5"
  }
 },
 "nbformat": 4,
 "nbformat_minor": 2
}
